{
 "cells": [
  {
   "cell_type": "code",
   "execution_count": 20,
   "metadata": {},
   "outputs": [
    {
     "data": {
      "text/plain": [
       "array([0.        , 0.14069263, 0.01969522, 0.76458832, 0.49165552,\n",
       "       0.18626289, 0.99086954, 0.93209523, 0.34857585, 0.64780792,\n",
       "       0.78786771, 0.14306559, 0.2952221 , 0.94736967, 0.77193213,\n",
       "       0.81014175, 0.31313665, 0.99767568, 0.99288562, 0.77768016,\n",
       "       0.75367373, 0.49113785, 0.99825743, 0.64362203, 0.8625975 ,\n",
       "       0.99934113, 0.36727236, 0.98397864, 0.98812559, 0.48816467,\n",
       "       0.09739958, 0.90657098, 0.13394996, 0.07775778, 0.23743407,\n",
       "       0.76513495, 0.39544657, 0.99997795, 0.2036154 , 0.63948804,\n",
       "       0.61832714, 0.52961075, 0.03013706, 0.99977517, 0.13194752,\n",
       "       0.19422364, 0.16036701, 0.68711329, 0.42220879, 0.84704113,\n",
       "       0.55872822, 0.88828564, 0.31493282, 0.25928211, 0.25882912,\n",
       "       0.64863205, 0.05944061, 0.43113327, 0.99996567, 0.99313736,\n",
       "       0.20184326, 0.73610687, 0.65772247, 0.63522339, 0.59490967,\n",
       "       0.82646179, 0.42738342, 0.99981689, 0.57189941, 0.18218994,\n",
       "       0.53338623, 0.22180176, 0.68499756, 0.50872803, 0.99816895,\n",
       "       0.6965332 , 0.49719238, 0.70397949, 0.58911133, 0.15283203,\n",
       "       0.24072266, 0.15917969, 0.86035156, 0.88476562, 0.91015625,\n",
       "       0.5859375 , 0.24804688, 0.88378906, 0.9296875 , 0.73828125,\n",
       "       0.64160156, 0.20703125, 0.24804688, 0.828125  , 0.9453125 ,\n",
       "       0.79296875, 0.9609375 , 0.265625  , 0.77734375, 0.171875  ,\n",
       "       0.9765625 , 0.46875   , 0.7421875 , 0.828125  , 0.84375   ,\n",
       "       0.484375  , 0.546875  , 0.875     , 0.3125    , 0.75      ,\n",
       "       0.59375   , 0.53125   , 0.4375    , 0.5625    , 0.9375    ,\n",
       "       0.75      , 0.5       , 0.        , 0.75      , 0.625     ,\n",
       "       0.125     , 0.75      , 0.25      , 0.5       , 0.75      ,\n",
       "       0.25      , 0.75      , 0.5       , 0.        , 0.        ,\n",
       "       0.        , 0.        , 0.        , 0.        , 0.        ,\n",
       "       0.        , 0.        , 0.        , 0.        , 0.        ,\n",
       "       0.        , 0.        , 0.        , 0.        , 0.        ,\n",
       "       0.        , 0.        , 0.        , 0.        , 0.        ,\n",
       "       0.        , 0.        , 0.        , 0.        , 0.        ,\n",
       "       0.        , 0.        , 0.        , 0.        , 0.        ,\n",
       "       0.        , 0.        , 0.        , 0.        ], dtype=float128)"
      ]
     },
     "execution_count": 20,
     "metadata": {},
     "output_type": "execute_result"
    }
   ],
   "source": [
    "import numpy as np\n",
    "A = np.array([np.exp(np.pi*np.sqrt(k)) for k in range(164)], dtype=np.longdouble)\n",
    "A - np.floor(A)\n"
   ]
  },
  {
   "cell_type": "code",
   "execution_count": 31,
   "metadata": {},
   "outputs": [
    {
     "data": {
      "text/plain": [
       "[[1, 0.14069263277926680189],\n",
       " [2, 0.019695223207207845917],\n",
       " [3, 0.7645883191457585326],\n",
       " [7, 0.9320952252610368305],\n",
       " [11, 0.14306559242686489597],\n",
       " [19, 0.7776801552390679717],\n",
       " [43, 0.99977517127990722656],\n",
       " [67, 0.99981689453125],\n",
       " [163, 0.0]]"
      ]
     },
     "execution_count": 31,
     "metadata": {},
     "output_type": "execute_result"
    }
   ],
   "source": [
    "[[j,(A - np.floor(A))[j]] for j in [1,2,3,7,11,19,43,67,163]]\n",
    "    "
   ]
  },
  {
   "cell_type": "code",
   "execution_count": 33,
   "metadata": {},
   "outputs": [
    {
     "data": {
      "text/plain": [
       "[[0, 0.0],\n",
       " [1, 0.14069263277926680189],\n",
       " [2, 0.019695223207207845917],\n",
       " [3, 0.7645883191457585326],\n",
       " [4, 0.4916555247646101634],\n",
       " [5, 0.1862628913986554835],\n",
       " [6, 0.99086954370613966603],\n",
       " [7, 0.9320952252610368305],\n",
       " [8, 0.348575847042411624],\n",
       " [9, 0.6478079166936367983],\n",
       " [10, 0.7878677134322060738],\n",
       " [11, 0.14306559242686489597],\n",
       " [12, 0.29522210482537047938],\n",
       " [13, 0.94736966671189293265],\n",
       " [14, 0.77193212661950383335],\n",
       " [15, 0.81014175029122270644],\n",
       " [16, 0.31313665315974503756],\n",
       " [17, 0.9976756799151189625],\n",
       " [18, 0.9928856182377785444],\n",
       " [19, 0.7776801552390679717],\n",
       " [20, 0.75367372878827154636],\n",
       " [21, 0.49113785242661833763],\n",
       " [22, 0.99825742561370134354],\n",
       " [23, 0.6436220291070640087],\n",
       " [24, 0.86259749624878168106],\n",
       " [25, 0.99934113025665283203],\n",
       " [26, 0.3672723621129989624],\n",
       " [27, 0.9839786440134048462],\n",
       " [28, 0.98812558501958847046],\n",
       " [29, 0.48816467076539993286],\n",
       " [30, 0.09739957749843597412],\n",
       " [31, 0.90657097846269607544],\n",
       " [32, 0.13394995778799057007],\n",
       " [33, 0.07775777578353881836],\n",
       " [34, 0.2374340742826461792],\n",
       " [35, 0.76513494551181793213],\n",
       " [36, 0.39544656872749328613],\n",
       " [37, 0.99997794628143310547],\n",
       " [38, 0.20361539721488952637],\n",
       " [39, 0.63948804140090942383],\n",
       " [40, 0.61832714080810546875],\n",
       " [41, 0.52961075305938720703],\n",
       " [42, 0.03013706207275390625],\n",
       " [43, 0.99977517127990722656],\n",
       " [44, 0.13194751739501953125],\n",
       " [45, 0.19422364234924316406],\n",
       " [46, 0.16036701202392578125],\n",
       " [47, 0.6871132850646972656],\n",
       " [48, 0.4222087860107421875],\n",
       " [49, 0.84704113006591796875],\n",
       " [50, 0.55872821807861328125],\n",
       " [51, 0.88828563690185546875],\n",
       " [52, 0.31493282318115234375],\n",
       " [53, 0.25928211212158203125],\n",
       " [54, 0.2588291168212890625],\n",
       " [55, 0.648632049560546875],\n",
       " [56, 0.05944061279296875],\n",
       " [57, 0.431133270263671875],\n",
       " [58, 0.999965667724609375],\n",
       " [59, 0.993137359619140625],\n",
       " [60, 0.20184326171875],\n",
       " [61, 0.73610687255859375],\n",
       " [62, 0.65772247314453125],\n",
       " [63, 0.635223388671875],\n",
       " [64, 0.59490966796875],\n",
       " [65, 0.8264617919921875],\n",
       " [66, 0.4273834228515625],\n",
       " [67, 0.99981689453125],\n",
       " [68, 0.5718994140625],\n",
       " [69, 0.18218994140625],\n",
       " [70, 0.53338623046875],\n",
       " [71, 0.2218017578125],\n",
       " [72, 0.68499755859375],\n",
       " [73, 0.50872802734375],\n",
       " [74, 0.9981689453125],\n",
       " [75, 0.696533203125],\n",
       " [76, 0.4971923828125],\n",
       " [77, 0.7039794921875],\n",
       " [78, 0.589111328125],\n",
       " [79, 0.15283203125],\n",
       " [80, 0.24072265625],\n",
       " [81, 0.1591796875],\n",
       " [82, 0.8603515625],\n",
       " [83, 0.884765625],\n",
       " [84, 0.91015625],\n",
       " [85, 0.5859375],\n",
       " [86, 0.248046875],\n",
       " [87, 0.8837890625],\n",
       " [88, 0.9296875],\n",
       " [89, 0.73828125],\n",
       " [90, 0.6416015625],\n",
       " [91, 0.20703125],\n",
       " [92, 0.248046875],\n",
       " [93, 0.828125],\n",
       " [94, 0.9453125],\n",
       " [95, 0.79296875],\n",
       " [96, 0.9609375],\n",
       " [97, 0.265625],\n",
       " [98, 0.77734375],\n",
       " [99, 0.171875],\n",
       " [100, 0.9765625],\n",
       " [101, 0.46875],\n",
       " [102, 0.7421875],\n",
       " [103, 0.828125],\n",
       " [104, 0.84375],\n",
       " [105, 0.484375],\n",
       " [106, 0.546875],\n",
       " [107, 0.875],\n",
       " [108, 0.3125],\n",
       " [109, 0.75],\n",
       " [110, 0.59375],\n",
       " [111, 0.53125],\n",
       " [112, 0.4375],\n",
       " [113, 0.5625],\n",
       " [114, 0.9375],\n",
       " [115, 0.75],\n",
       " [116, 0.5],\n",
       " [117, 0.0],\n",
       " [118, 0.75],\n",
       " [119, 0.625],\n",
       " [120, 0.125],\n",
       " [121, 0.75],\n",
       " [122, 0.25],\n",
       " [123, 0.5],\n",
       " [124, 0.75],\n",
       " [125, 0.25],\n",
       " [126, 0.75],\n",
       " [127, 0.5],\n",
       " [128, 0.0],\n",
       " [129, 0.0],\n",
       " [130, 0.0],\n",
       " [131, 0.0],\n",
       " [132, 0.0],\n",
       " [133, 0.0],\n",
       " [134, 0.0],\n",
       " [135, 0.0],\n",
       " [136, 0.0],\n",
       " [137, 0.0],\n",
       " [138, 0.0],\n",
       " [139, 0.0],\n",
       " [140, 0.0],\n",
       " [141, 0.0],\n",
       " [142, 0.0],\n",
       " [143, 0.0],\n",
       " [144, 0.0],\n",
       " [145, 0.0],\n",
       " [146, 0.0],\n",
       " [147, 0.0],\n",
       " [148, 0.0],\n",
       " [149, 0.0],\n",
       " [150, 0.0],\n",
       " [151, 0.0],\n",
       " [152, 0.0],\n",
       " [153, 0.0],\n",
       " [154, 0.0],\n",
       " [155, 0.0],\n",
       " [156, 0.0],\n",
       " [157, 0.0],\n",
       " [158, 0.0],\n",
       " [159, 0.0],\n",
       " [160, 0.0],\n",
       " [161, 0.0],\n",
       " [162, 0.0],\n",
       " [163, 0.0]]"
      ]
     },
     "execution_count": 33,
     "metadata": {},
     "output_type": "execute_result"
    }
   ],
   "source": [
    "[[j,(A - np.floor(A))[j]] for j in range(164)]"
   ]
  },
  {
   "cell_type": "code",
   "execution_count": 30,
   "metadata": {},
   "outputs": [
    {
     "data": {
      "text/plain": [
       "<matplotlib.collections.PathCollection at 0x7f21ae85efd0>"
      ]
     },
     "execution_count": 30,
     "metadata": {},
     "output_type": "execute_result"
    },
    {
     "data": {
      "image/png": "[encoded data removed]",
      "text/plain": [
       "<Figure size 432x288 with 1 Axes>"
      ]
     },
     "metadata": {
      "needs_background": "light"
     },
     "output_type": "display_data"
    }
   ],
   "source": [
    "import matplotlib.pyplot as plt\n",
    "\n",
    "x = range(164)\n",
    "y = A - np.floor(A)\n",
    "plt.scatter(x,y)"
   ]
  }
 ],
 "metadata": {
  "kernelspec": {
   "display_name": "Python 3",
   "language": "python",
   "name": "python3"
  },
  "language_info": {
   "codemirror_mode": {
    "name": "ipython",
    "version": 3
   },
   "file_extension": ".py",
   "mimetype": "text/x-python",
   "name": "python",
   "nbconvert_exporter": "python",
   "pygments_lexer": "ipython3",
   "version": "3.7.2"
  }
 },
 "nbformat": 4,
 "nbformat_minor": 2
}
